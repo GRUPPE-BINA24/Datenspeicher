{
  "nbformat": 4,
  "nbformat_minor": 0,
  "metadata": {
    "colab": {
      "provenance": [],
      "mount_file_id": "1Xpm6NKCOMVAhwnKAvbSCbLpo0oHxzuiT",
      "authorship_tag": "ABX9TyNXz2zqdJOcvdtES8WpdrFr",
      "include_colab_link": true
    },
    "kernelspec": {
      "name": "python3",
      "display_name": "Python 3"
    },
    "language_info": {
      "name": "python"
    }
  },
  "cells": [
    {
      "cell_type": "markdown",
      "metadata": {
        "id": "view-in-github",
        "colab_type": "text"
      },
      "source": [
        "<a href=\"https://colab.research.google.com/github/GRUPPE-BINA24/Datenspeicher/blob/main/BINA_FS24.ipynb\" target=\"_parent\"><img src=\"https://colab.research.google.com/assets/colab-badge.svg\" alt=\"Open In Colab\"/></a>"
      ]
    },
    {
      "cell_type": "code",
      "execution_count": 4,
      "metadata": {
        "id": "6fkZrudI-_JF"
      },
      "outputs": [],
      "source": [
        "import pandas as pd\n",
        "excel=pd.read_excel(\"/content/drive/MyDrive/Colab Notebooks/BFS-Studierendenstatistik 2023 OST.xlsx\")"
      ]
    }
  ]
}